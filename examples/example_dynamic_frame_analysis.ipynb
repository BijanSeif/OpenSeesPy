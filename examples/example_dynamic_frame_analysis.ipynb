{
 "cells": [
  {
   "cell_type": "markdown",
   "metadata": {
    "collapsed": true,
    "pycharm": {}
   },
   "source": [
    "# Run seismic analysis of a nonlinear frame building\n",
    "\n",
    "Warning: This script should only be run from start to finish, rerunning particular cells tries to initiate new objects in openseespy which causes a problem with the tags.\n",
    "\n",
    "### Load inline plotting and auto-reload commands"
   ]
  },
  {
   "cell_type": "code",
   "execution_count": 1,
   "metadata": {
    "pycharm": {
     "metadata": false,
     "name": "#%%\n"
    }
   },
   "outputs": [],
   "source": [
    "%load_ext autoreload\n",
    "%autoreload 2\n",
    "%matplotlib inline"
   ]
  },
  {
   "cell_type": "code",
   "execution_count": 2,
   "metadata": {
    "pycharm": {
     "metadata": false,
     "name": "#%%\n"
    }
   },
   "outputs": [],
   "source": [
    "import os\n",
    "os.chdir('..')  # set working directory to project directory\n"
   ]
  },
  {
   "cell_type": "code",
   "execution_count": 3,
   "metadata": {
    "pycharm": {
     "metadata": false,
     "name": "#%%\n"
    }
   },
   "outputs": [],
   "source": [
    "from collections import OrderedDict\n",
    "\n",
    "import matplotlib.pyplot as plt\n",
    "import sfsimodels\n",
    "import eqsig\n",
    "\n",
    "import numpy as np\n",
    "\n",
    "from openseespy import opensees as opy\n",
    "import openseespy.wrap.static as opc\n",
    "import openseespy.wrap as opw\n"
   ]
  },
  {
   "cell_type": "markdown",
   "metadata": {
    "pycharm": {
     "metadata": false,
     "name": "#%% md\n"
    }
   },
   "source": [
    "### Define the building"
   ]
  },
  {
   "cell_type": "code",
   "execution_count": 4,
   "metadata": {
    "pycharm": {
     "metadata": false,
     "name": "#%%\n"
    }
   },
   "outputs": [],
   "source": [
    "number_of_storeys = 1\n",
    "fb = sfsimodels.FrameBuilding2D(number_of_storeys, n_bays=1)\n",
    "fb.interstorey_heights = 3.4 * np.ones(number_of_storeys)\n",
    "fb.floor_length = 18.0  # m\n",
    "fb.floor_width = 16.0  # m\n",
    "fb.storey_masses = 40.0e3 * np.ones(number_of_storeys)  # kg\n",
    "\n",
    "fb.bay_lengths = [6.]\n",
    "fb.set_beam_prop(\"depth\", [0.5], repeat=\"up\")\n",
    "fb.set_beam_prop(\"width\", [0.4], repeat=\"up\")\n",
    "fb.set_column_prop(\"width\", [0.5, 0.5], repeat=\"up\")\n",
    "fb.set_column_prop(\"depth\", [0.5, 0.5], repeat=\"up\")\n"
   ]
  },
  {
   "cell_type": "markdown",
   "metadata": {},
   "source": [
    "### Define ground motion"
   ]
  },
  {
   "cell_type": "code",
   "execution_count": 5,
   "metadata": {},
   "outputs": [],
   "source": [
    "from tests import conftest\n",
    "record_filename = 'test_motion_dt0p01.txt'\n",
    "motion_step = 0.01\n",
    "rec = np.loadtxt(conftest.TEST_DATA_DIR + record_filename)\n",
    "asig = eqsig.AccSignal(rec, motion_step)"
   ]
  },
  {
   "cell_type": "markdown",
   "metadata": {
    "pycharm": {
     "metadata": false,
     "name": "#%% md\n"
    }
   },
   "source": [
    "### Establish an Opensees instance and define additional variables"
   ]
  },
  {
   "cell_type": "code",
   "execution_count": 6,
   "metadata": {
    "pycharm": {
     "metadata": false,
     "name": "#%%\n"
    }
   },
   "outputs": [],
   "source": [
    "osi = opw.OpenseesInstance(dimensions=2)\n",
    "\n",
    "q_floor = 10000.  # kPa\n",
    "trib_width = fb.floor_length\n",
    "trib_mass_per_length = q_floor * trib_width / 9.8\n"
   ]
  },
  {
   "cell_type": "markdown",
   "metadata": {
    "pycharm": {
     "metadata": false,
     "name": "#%% md\n"
    }
   },
   "source": [
    "### Establish nodes and set mass based on trib area\n",
    "\n",
    "Nodes named as: C<column-number>-S<storey-number>, first column starts at C1-S0 = ground level left"
   ]
  },
  {
   "cell_type": "code",
   "execution_count": 7,
   "metadata": {
    "pycharm": {
     "metadata": false,
     "name": "#%%\n"
    }
   },
   "outputs": [],
   "source": [
    "nd = OrderedDict()\n",
    "col_xs = np.cumsum(fb.bay_lengths)\n",
    "col_xs = np.insert(col_xs, 0, 0)\n",
    "n_cols = len(col_xs)\n",
    "sto_ys = fb.heights\n",
    "sto_ys = np.insert(sto_ys, 0, 0)\n",
    "for cc in range(1, n_cols + 1):\n",
    "    for ss in range(fb.n_storeys + 1):\n",
    "        nd[\"C{0}-S{1}\".format(cc, ss)] = opw.nodes.Node(osi, col_xs[cc - 1], sto_ys[ss])\n",
    "\n",
    "        if ss != 0:\n",
    "            if cc == 1:\n",
    "                node_mass = trib_mass_per_length * fb.bay_lengths[0] / 2\n",
    "            elif cc == n_cols:\n",
    "                node_mass = trib_mass_per_length * fb.bay_lengths[-1] / 2\n",
    "            else:\n",
    "                node_mass = trib_mass_per_length * (fb.bay_lengths[cc - 2] + fb.bay_lengths[cc - 1] / 2)\n",
    "            opw.set_node_mass(nd[\"C{0}-S{1}\".format(cc, ss)], node_mass, 0., 0.)\n"
   ]
  },
  {
   "cell_type": "markdown",
   "metadata": {
    "pycharm": {
     "metadata": false,
     "name": "#%% md\n"
    }
   },
   "source": [
    "### Set all nodes on a storey to have the same displacement and fix base nodes"
   ]
  },
  {
   "cell_type": "code",
   "execution_count": 8,
   "metadata": {
    "pycharm": {
     "metadata": false,
     "name": "#%%\n"
    }
   },
   "outputs": [],
   "source": [
    "for ss in range(0, fb.n_storeys + 1):\n",
    "    for cc in range(1, n_cols + 1):\n",
    "        opw.set_equal_dofs(nd[\"C{0}-S{1}\".format(1, ss)], nd[\"C{0}-S{1}\".format(cc, ss)], opc.X)\n",
    "\n",
    "# Fix all base nodes\n",
    "for cc in range(1, n_cols + 1):\n",
    "    opy.fix(nd[\"C%i-S%i\" % (cc, 0)].tag, opc.FIXED, opc.FIXED, opc.FIXED)\n",
    "\n",
    "# Coordinate transformation\n",
    "transf = opw.transformations.Linear(osi, [])\n",
    "\n"
   ]
  },
  {
   "cell_type": "markdown",
   "metadata": {
    "pycharm": {
     "metadata": false,
     "name": "#%% md\n"
    }
   },
   "source": [
    "### Define beams and columns\n",
    " - Columns named as: C<column-number>-S<storey-number>, first column starts at C1-S0 = ground floor left\n",
    " - Beams named as: B<bay-number>-S<storey-number>, first beam starts at B1-S1 = first storey left (foundation at S0)\n"
   ]
  },
  {
   "cell_type": "code",
   "execution_count": 9,
   "metadata": {
    "pycharm": {
     "metadata": false,
     "name": "#%%\n"
    }
   },
   "outputs": [],
   "source": [
    "l_hinge = fb.bay_lengths[0] * 0.1\n",
    "\n",
    "# Define material\n",
    "e_conc = 30.0e6\n",
    "i_beams = 0.4 * fb.beam_widths * fb.beam_depths ** 3 / 12\n",
    "i_columns = 0.5 * fb.column_widths * fb.column_depths ** 3 / 12\n",
    "a_beams = fb.beam_widths * fb.beam_depths\n",
    "a_columns = fb.column_widths * fb.column_depths\n",
    "ei_beams = e_conc * i_beams\n",
    "ei_columns = e_conc * i_columns\n",
    "eps_yield = 300.0e6 / 200e9\n",
    "phi_y_col = 2.1 * eps_yield / fb.column_depths\n",
    "phi_y_beam = 2.1 * eps_yield / fb.beam_depths * 10  # TODO: re-evaluate\n",
    "\n",
    "md = OrderedDict()  # material dict\n",
    "sd = OrderedDict()  # section dict\n",
    "ed = OrderedDict()  # element dict\n",
    "\n",
    "for ss in range(fb.n_storeys):\n",
    "\n",
    "    # set columns\n",
    "    for cc in range(1, fb.n_cols + 1):\n",
    "        lp_i = 0.4\n",
    "        lp_j = 0.4  # plastic hinge length\n",
    "        ele_str = \"C{0}-S{1}S{2}\".format(cc, ss, ss + 1)\n",
    "\n",
    "        top_sect = opw.sections.Elastic(osi, e_conc, a_columns[ss][cc - 1], i_columns[ss][cc - 1])\n",
    "        bot_sect = opw.sections.Elastic(osi, e_conc, a_columns[ss][cc - 1], i_columns[ss][cc - 1])\n",
    "        centre_sect = opw.sections.Elastic(osi, e_conc, a_columns[ss][cc - 1], i_columns[ss][cc - 1])\n",
    "        sd[ele_str + \"T\"] = top_sect\n",
    "        sd[ele_str + \"B\"] = bot_sect\n",
    "        sd[ele_str + \"C\"] = centre_sect\n",
    "\n",
    "        integ = opw.beam_integrations.HingeMidpoint(osi, bot_sect, lp_i, top_sect, lp_j, centre_sect)\n",
    "\n",
    "        left_node = nd[\"C%i-S%i\" % (cc, ss)]\n",
    "        right_node = nd[\"C%i-S%i\" % (cc, ss + 1)]\n",
    "        ed[ele_str] = opw.elements.ForceBeamColumn(osi, left_node, right_node, transf, integ)\n",
    "\n",
    "    # Set beams\n",
    "    for bb in range(1, fb.n_bays + 1):\n",
    "        lp_i = 0.5\n",
    "        lp_j = 0.5\n",
    "        ele_str = \"C{0}C{1}-S{2}\".format(bb - 1, bb, ss)\n",
    "\n",
    "        mat = opw.uniaxial_materials.ElasticBiLinear(osi, ei_beams[ss][bb - 1], 0.05 * ei_beams[ss][bb - 1], phi_y_beam[ss][bb - 1])\n",
    "        md[ele_str] = mat\n",
    "        left_sect = opw.sections.Uniaxial(osi, mat, quantity=opc.M_Z)\n",
    "        right_sect = opw.sections.Uniaxial(osi, mat, quantity=opc.M_Z)\n",
    "        centre_sect = opw.sections.Elastic(osi, e_conc, a_beams[ss][bb - 1], i_beams[ss][bb - 1])\n",
    "        integ = opw.beam_integrations.HingeMidpoint(osi, left_sect, lp_i, right_sect, lp_j, centre_sect)\n",
    "\n",
    "        left_node = nd[\"C%i-S%i\" % (bb, ss + 1)]\n",
    "        right_node = nd[\"C%i-S%i\" % (bb + 1, ss + 1)]\n",
    "        ed[ele_str] = opw.elements.ForceBeamColumn(osi, left_node, right_node, transf, integ)\n"
   ]
  },
  {
   "cell_type": "markdown",
   "metadata": {
    "pycharm": {
     "metadata": false,
     "name": "#%% md\n"
    }
   },
   "source": [
    "### Define the dynamic analysis"
   ]
  },
  {
   "cell_type": "code",
   "execution_count": 10,
   "metadata": {
    "pycharm": {
     "metadata": false,
     "name": "#%%\n"
    }
   },
   "outputs": [
    {
     "data": {
      "text/plain": [
       "<openseespy.wrap.commands.rayleigh.Rayleigh at 0x202dab6a0f0>"
      ]
     },
     "execution_count": 10,
     "metadata": {},
     "output_type": "execute_result"
    }
   ],
   "source": [
    "load_tag_dynamic = 1\n",
    "pattern_tag_dynamic = 1\n",
    "\n",
    "values = list(-1 * asig.values)  # should be negative\n",
    "opy.timeSeries('Path', load_tag_dynamic, '-dt', asig.dt, '-values', *values)\n",
    "opy.pattern('UniformExcitation', pattern_tag_dynamic, opc.X, '-accel', load_tag_dynamic)\n",
    "\n",
    "# set damping based on first eigen mode\n",
    "angular_freq = opy.eigen('-fullGenLapack', 1) ** 0.5\n",
    "if isinstance(angular_freq, complex):\n",
    "    raise ValueError(\"Angular frequency is complex, issue with stiffness or mass\")\n",
    "    \n",
    "xi = 0.05\n",
    "beta_k = 2 * xi / angular_freq\n",
    "opw.rayleigh.Rayleigh(osi, alpha_m=0.0, beta_k=beta_k, beta_k_init=0.0, beta_k_comm=0.0)\n"
   ]
  },
  {
   "cell_type": "markdown",
   "metadata": {
    "pycharm": {
     "metadata": false,
     "name": "#%% md\n"
    }
   },
   "source": [
    "### Run the dynamic analysis"
   ]
  },
  {
   "cell_type": "code",
   "execution_count": 11,
   "metadata": {
    "pycharm": {
     "metadata": false,
     "name": "#%%\n"
    }
   },
   "outputs": [
    {
     "name": "stdout",
     "output_type": "stream",
     "text": [
      "Analysis starting\n",
      "Analysis complete\n"
     ]
    }
   ],
   "source": [
    "opy.wipeAnalysis()\n",
    "\n",
    "opw.algorithms.Newton(osi)\n",
    "opy.system('SparseGeneral')\n",
    "opy.numberer('RCM')\n",
    "opy.constraints('Transformation')\n",
    "opy.integrator('Newmark', 0.5, 0.25)\n",
    "opy.analysis('Transient')\n",
    "#op.test(\"NormDispIncr\", 1.0e-1, 2, 0)\n",
    "tol = 1.0e-4\n",
    "iter = 4\n",
    "opy.test('EnergyIncr', tol, iter, 0, 2)\n",
    "extra_time = 10\n",
    "analysis_dt = 0.001\n",
    "analysis_time = (len(values) - 1) * asig.dt + extra_time\n",
    "analysis_dt\n",
    "outputs = {\n",
    "    \"time\": [],\n",
    "    \"rel_disp\": [],\n",
    "    \"rel_accel\": [],\n",
    "    \"rel_vel\": [],\n",
    "    \"force\": [],\n",
    "    \"ele_mom\": [],\n",
    "    \"ele_curve\": [],\n",
    "}\n",
    "print(\"Analysis starting\")\n",
    "opy.recorder('Element', '-file', 'ele_out.txt', '-time', '-ele', 1, 'force')\n",
    "while opy.getTime() < analysis_time:\n",
    "    curr_time = opy.getTime()\n",
    "    opy.analyze(1, analysis_dt)\n",
    "    outputs[\"time\"].append(curr_time)\n",
    "    outputs[\"rel_disp\"].append(opy.nodeDisp(nd[\"C%i-S%i\" % (1, fb.n_storeys)].tag, opc.X))\n",
    "    outputs[\"rel_vel\"].append(opy.nodeVel(nd[\"C%i-S%i\" % (1, fb.n_storeys)].tag, opc.X))\n",
    "    outputs[\"rel_accel\"].append(opy.nodeAccel(nd[\"C%i-S%i\" % (1, fb.n_storeys)].tag, opc.X))\n",
    "    # outputs['ele_mom'].append(opy.eleResponse('-ele', [ed['B%i-S%i' % (1, 0)], 'basicForce'])) # not working\n",
    "    opy.reactions()\n",
    "    react = 0\n",
    "    for cc in range(1, fb.n_cols):\n",
    "        react += -opy.nodeReaction(nd[\"C%i-S%i\" % (cc, 0)].tag, opc.X)\n",
    "    outputs[\"force\"].append(react)  # Should be negative since diff node\n",
    "opy.wipe()\n",
    "for item in outputs:\n",
    "    outputs[item] = np.array(outputs[item])\n",
    "print('Analysis complete')"
   ]
  },
  {
   "cell_type": "markdown",
   "metadata": {
    "pycharm": {
     "metadata": false,
     "name": "#%% md\n"
    }
   },
   "source": [
    "### Plot roof displacement"
   ]
  },
  {
   "cell_type": "code",
   "execution_count": 12,
   "metadata": {
    "pycharm": {
     "metadata": false,
     "name": "#%%\n"
    }
   },
   "outputs": [
    {
     "data": {
      "text/plain": [
       "[<matplotlib.lines.Line2D at 0x202dabc8b00>]"
      ]
     },
     "execution_count": 12,
     "metadata": {},
     "output_type": "execute_result"
    },
    {
     "data": {
      "image/png": "[encoded data removed]",
      "text/plain": [
       "<Figure size 432x288 with 1 Axes>"
      ]
     },
     "metadata": {
      "needs_background": "light"
     },
     "output_type": "display_data"
    }
   ],
   "source": [
    "acc_opensees = np.interp(asig.time, outputs[\"time\"], outputs[\"rel_accel\"]) - rec\n",
    "ux_opensees = np.interp(asig.time, outputs[\"time\"], outputs[\"rel_disp\"])\n",
    "plt.plot(ux_opensees)"
   ]
  },
  {
   "cell_type": "code",
   "execution_count": null,
   "metadata": {},
   "outputs": [],
   "source": []
  }
 ],
 "metadata": {
  "kernelspec": {
   "display_name": "Python 3",
   "language": "python",
   "name": "python3"
  },
  "language_info": {
   "codemirror_mode": {
    "name": "ipython",
    "version": 3
   },
   "file_extension": ".py",
   "mimetype": "text/x-python",
   "name": "python",
   "nbconvert_exporter": "python",
   "pygments_lexer": "ipython3",
   "version": "3.7.0"
  }
 },
 "nbformat": 4,
 "nbformat_minor": 1
}

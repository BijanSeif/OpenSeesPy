{
  "cells": [
    {
      "cell_type": "markdown",
      "metadata": {
        "collapsed": true,
        "pycharm": {}
      },
      "source": "# Run seismic analysis of a nonlinear frame building\n\n### Load inline plotting and auto-reload commands"
    },
    {
      "cell_type": "code",
      "execution_count": null,
      "outputs": [],
      "source": "%load_ext autoreload\n%autoreload 2\n%matplotlib inline\n\n",
      "metadata": {
        "pycharm": {
          "metadata": false,
          "name": "#%%\n"
        }
      }
    },
    {
      "cell_type": "code",
      "execution_count": null,
      "outputs": [],
      "source": "import os\nos.chdir(\u0027..\u0027)  # set working directory to project directory\n",
      "metadata": {
        "pycharm": {
          "metadata": false,
          "name": "#%%\n"
        }
      }
    },
    {
      "cell_type": "code",
      "execution_count": null,
      "outputs": [],
      "source": "from collections import OrderedDict\n\nimport matplotlib.pyplot as plt\nimport sfsimodels\nimport eqsig\n\nimport numpy as np\n\nfrom openseespy import opensees as opy\nimport openseespy.wrap.static as opc\nimport openseespy.wrap as opw\n",
      "metadata": {
        "pycharm": {
          "metadata": false,
          "name": "#%%\n"
        }
      }
    },
    {
      "cell_type": "markdown",
      "source": "### Define the building",
      "metadata": {
        "pycharm": {
          "metadata": false,
          "name": "#%% md\n"
        }
      }
    },
    {
      "cell_type": "code",
      "execution_count": null,
      "outputs": [],
      "source": "number_of_storeys \u003d 1\nfb \u003d sfsimodels.FrameBuilding2D(number_of_storeys, n_bays\u003d1)\nfb.interstorey_heights \u003d 3.4 * np.ones(number_of_storeys)\nfb.floor_length \u003d 18.0  # m\nfb.floor_width \u003d 16.0  # m\nfb.storey_masses \u003d 40.0e3 * np.ones(number_of_storeys)  # kg\n\nfb.bay_lengths \u003d [6.]\nfb.set_beam_prop(\"depth\", [0.5], repeat\u003d\"up\")\nfb.set_beam_prop(\"width\", [0.4], repeat\u003d\"up\")\nfb.set_column_prop(\"width\", [0.5, 0.5], repeat\u003d\"up\")\nfb.set_column_prop(\"depth\", [0.5, 0.5], repeat\u003d\"up\")\n",
      "metadata": {
        "pycharm": {
          "metadata": false,
          "name": "#%%\n"
        }
      }
    },
    {
      "cell_type": "markdown",
      "source": "### Establish an Opensees instance and define additional variables",
      "metadata": {
        "pycharm": {
          "metadata": false,
          "name": "#%% md\n"
        }
      }
    },
    {
      "cell_type": "code",
      "execution_count": null,
      "outputs": [],
      "source": "osi \u003d opw.OpenseesInstance(dimensions\u003d2)\n\nq_floor \u003d 10000.  # kPa\ntrib_width \u003d fb.floor_length\ntrib_mass_per_length \u003d q_floor * trib_width / 9.8\n",
      "metadata": {
        "pycharm": {
          "metadata": false,
          "name": "#%%\n"
        }
      }
    },
    {
      "cell_type": "markdown",
      "source": "### Establish nodes and set mass based on trib area\n\nNodes named as: C\u003ccolumn-number\u003e-S\u003cstorey-number\u003e, first column starts at C1-S0 \u003d ground level left",
      "metadata": {
        "pycharm": {
          "metadata": false,
          "name": "#%% md\n"
        }
      }
    },
    {
      "cell_type": "code",
      "execution_count": null,
      "outputs": [],
      "source": "nd \u003d OrderedDict()\ncol_xs \u003d np.cumsum(fb.bay_lengths)\ncol_xs \u003d np.insert(col_xs, 0, 0)\nn_cols \u003d len(col_xs)\nsto_ys \u003d fb.heights\nsto_ys \u003d np.insert(sto_ys, 0, 0)\nfor cc in range(1, n_cols + 1):\n    for ss in range(fb.n_storeys + 1):\n        nd[\"C{0}-S{1}\".format(cc, ss)] \u003d opw.nodes.Node(osi, col_xs[cc - 1], sto_ys[ss])\n\n        if ss !\u003d 0:\n            if cc \u003d\u003d 1:\n                node_mass \u003d trib_mass_per_length * fb.bay_lengths[0] / 2\n            elif cc \u003d\u003d n_cols:\n                node_mass \u003d trib_mass_per_length * fb.bay_lengths[-1] / 2\n            else:\n                node_mass \u003d trib_mass_per_length * (fb.bay_lengths[cc - 2] + fb.bay_lengths[cc - 1] / 2)\n            opw.set_node_mass(nd[\"C{0}-S{1}\".format(cc, ss)], node_mass, 0., 0.)\n",
      "metadata": {
        "pycharm": {
          "metadata": false,
          "name": "#%%\n"
        }
      }
    },
    {
      "cell_type": "markdown",
      "source": "### Set all nodes on a storey to have the same displacement and fix base nodes",
      "metadata": {
        "pycharm": {
          "metadata": false,
          "name": "#%% md\n"
        }
      }
    },
    {
      "cell_type": "code",
      "execution_count": null,
      "outputs": [],
      "source": "for ss in range(0, fb.n_storeys + 1):\n    for cc in range(1, n_cols + 1):\n        opw.set_equal_dofs(nd[\"C{0}-S{1}\".format(1, ss)], nd[\"C{0}-S{1}\".format(cc, ss)], opc.X)\n\n# Fix all base nodes\nfor cc in range(1, n_cols + 1):\n    opy.fix(nd[\"C%i-S%i\" % (cc, 0)].tag, opc.FIXED, opc.FIXED, opc.FIXED)\n\n# Coordinate transformation\ntransf \u003d opw.transformations.Linear(osi, [])\n\n",
      "metadata": {
        "pycharm": {
          "metadata": false,
          "name": "#%%\n"
        }
      }
    },
    {
      "cell_type": "markdown",
      "source": "### Define beams and columns\n - Columns named as: C\u003ccolumn-number\u003e-S\u003cstorey-number\u003e, first column starts at C1-S0 \u003d ground floor left\n - Beams named as: B\u003cbay-number\u003e-S\u003cstorey-number\u003e, first beam starts at B1-S1 \u003d first storey left (foundation at S0)\n",
      "metadata": {
        "pycharm": {
          "metadata": false,
          "name": "#%% md\n"
        }
      }
    },
    {
      "cell_type": "code",
      "execution_count": null,
      "outputs": [],
      "source": "l_hinge \u003d fb.bay_lengths[0] * 0.1\n\n# Define material\ne_conc \u003d 30.0e6\ni_beams \u003d 0.4 * fb.beam_widths * fb.beam_depths ** 3 / 12\ni_columns \u003d 0.5 * fb.column_widths * fb.column_depths ** 3 / 12\na_beams \u003d fb.beam_widths * fb.beam_depths\na_columns \u003d fb.column_widths * fb.column_depths\nei_beams \u003d e_conc * i_beams\nei_columns \u003d e_conc * i_columns\neps_yield \u003d 300.0e6 / 200e9\nphi_y_col \u003d 2.1 * eps_yield / fb.column_depths\nphi_y_beam \u003d 2.1 * eps_yield / fb.beam_depths * 10  # TODO: re-evaluate\n\nmd \u003d OrderedDict()  # material dict\nsd \u003d OrderedDict()  # section dict\ned \u003d OrderedDict()  # element dict\n\nfor ss in range(fb.n_storeys):\n\n    # set columns\n    for cc in range(1, fb.n_cols + 1):\n        lp_i \u003d 0.4\n        lp_j \u003d 0.4  # plastic hinge length\n        ele_str \u003d \"C{0}-S{1}S{2}\".format(cc, ss, ss + 1)\n\n        top_sect \u003d opw.sections.Elastic(osi, e_conc, a_columns[ss][cc - 1], i_columns[ss][cc - 1])\n        bot_sect \u003d opw.sections.Elastic(osi, e_conc, a_columns[ss][cc - 1], i_columns[ss][cc - 1])\n        centre_sect \u003d opw.sections.Elastic(osi, e_conc, a_columns[ss][cc - 1], i_columns[ss][cc - 1])\n        sd[ele_str + \"T\"] \u003d top_sect\n        sd[ele_str + \"B\"] \u003d bot_sect\n        sd[ele_str + \"C\"] \u003d centre_sect\n\n        integ \u003d opw.beam_integrations.HingeMidpoint(osi, bot_sect, lp_i, top_sect, lp_j, centre_sect)\n\n        left_node \u003d nd[\"C%i-S%i\" % (cc, ss)]\n        right_node \u003d nd[\"C%i-S%i\" % (cc, ss + 1)]\n        ed[ele_str] \u003d opw.elements.ForceBeamColumn(osi, left_node, right_node, transf, integ)\n\n    # Set beams\n    for bb in range(1, fb.n_bays + 1):\n        lp_i \u003d 0.5\n        lp_j \u003d 0.5\n        ele_str \u003d \"C{0}C{1}-S{2}\".format(bb - 1, bb, ss)\n\n        mat \u003d opw.uniaxial_materials.ElasticBiLinear(osi, ei_beams[ss][bb - 1], 0.05 * ei_beams[ss][bb - 1], phi_y_beam[ss][bb - 1])\n        md[ele_str] \u003d mat\n        left_sect \u003d opw.sections.Uniaxial(osi, mat, quantity\u003dopc.M_Z)\n        right_sect \u003d opw.sections.Uniaxial(osi, mat, quantity\u003dopc.M_Z)\n        centre_sect \u003d opw.sections.Elastic(osi, e_conc, a_beams[ss][bb - 1], i_beams[ss][bb - 1])\n        integ \u003d opw.beam_integrations.HingeMidpoint(osi, left_sect, lp_i, right_sect, lp_j, centre_sect)\n\n        left_node \u003d nd[\"C%i-S%i\" % (bb, ss + 1)]\n        right_node \u003d nd[\"C%i-S%i\" % (bb + 1, ss + 1)]\n        ed[ele_str] \u003d opw.elements.ForceBeamColumn(osi, left_node, right_node, transf, integ)\n",
      "metadata": {
        "pycharm": {
          "metadata": false,
          "name": "#%%\n"
        }
      }
    },
    {
      "cell_type": "markdown",
      "source": "### Define the dynamic analysis",
      "metadata": {
        "pycharm": {
          "metadata": false,
          "name": "#%% md\n"
        }
      }
    },
    {
      "cell_type": "code",
      "execution_count": null,
      "outputs": [],
      "source": "load_tag_dynamic \u003d 1\npattern_tag_dynamic \u003d 1\n\nvalues \u003d list(-1 * asig.values)  # should be negative\nopy.timeSeries(\u0027Path\u0027, load_tag_dynamic, \u0027-dt\u0027, asig.dt, \u0027-values\u0027, *values)\nopy.pattern(\u0027UniformExcitation\u0027, pattern_tag_dynamic, opc.X, \u0027-accel\u0027, load_tag_dynamic)\n\n# set damping based on first eigen mode\nangular_freq \u003d opy.eigen(\u0027-fullGenLapack\u0027, 1) ** 0.5\nif isinstance(angular_freq, complex):\n    raise ValueError(\"Angular frequency is complex, issue with stiffness or mass\")\nbeta_k \u003d 2 * xi / angular_freq\nopw.rayleigh.Rayleigh(osi, alpha_m\u003d0.0, beta_k\u003dbeta_k, beta_k_init\u003d0.0, beta_k_comm\u003d0.0)\n",
      "metadata": {
        "pycharm": {
          "metadata": false,
          "name": "#%%\n"
        }
      }
    },
    {
      "cell_type": "markdown",
      "source": "### Run the dynamic analysis",
      "metadata": {
        "pycharm": {
          "metadata": false,
          "name": "#%% md\n"
        }
      }
    },
    {
      "cell_type": "code",
      "execution_count": null,
      "outputs": [],
      "source": "opy.wipeAnalysis()\n\nopw.algorithms.Newton(osi)\nopy.system(\u0027SparseGeneral\u0027)\nopy.numberer(\u0027RCM\u0027)\nopy.constraints(\u0027Transformation\u0027)\nopy.integrator(\u0027Newmark\u0027, 0.5, 0.25)\nopy.analysis(\u0027Transient\u0027)\n#op.test(\"NormDispIncr\", 1.0e-1, 2, 0)\ntol \u003d 1.0e-4\niter \u003d 4\nopy.test(\u0027EnergyIncr\u0027, tol, iter, 0, 2)\nanalysis_time \u003d (len(values) - 1) * asig.dt + extra_time\noutputs \u003d {\n    \"time\": [],\n    \"rel_disp\": [],\n    \"rel_accel\": [],\n    \"rel_vel\": [],\n    \"force\": [],\n    \"ele_mom\": [],\n    \"ele_curve\": [],\n}\nprint(\"Analysis starting\")\nopy.recorder(\u0027Element\u0027, \u0027-file\u0027, \u0027ele_out.txt\u0027, \u0027-time\u0027, \u0027-ele\u0027, 1, \u0027force\u0027)\nwhile opy.getTime() \u003c analysis_time:\n    curr_time \u003d opy.getTime()\n    opy.analyze(1, analysis_dt)\n    outputs[\"time\"].append(curr_time)\n    outputs[\"rel_disp\"].append(opy.nodeDisp(nd[\"C%i-S%i\" % (1, fb.n_storeys)].tag, opc.X))\n    outputs[\"rel_vel\"].append(opy.nodeVel(nd[\"C%i-S%i\" % (1, fb.n_storeys)].tag, opc.X))\n    outputs[\"rel_accel\"].append(opy.nodeAccel(nd[\"C%i-S%i\" % (1, fb.n_storeys)].tag, opc.X))\n    # outputs[\u0027ele_mom\u0027].append(opy.eleResponse(\u0027-ele\u0027, [ed[\u0027B%i-S%i\u0027 % (1, 0)], \u0027basicForce\u0027])) # not working\n    opy.reactions()\n    react \u003d 0\n    for cc in range(1, fb.n_cols):\n        react +\u003d -opy.nodeReaction(nd[\"C%i-S%i\" % (cc, 0)].tag, opc.X)\n    outputs[\"force\"].append(react)  # Should be negative since diff node\nopy.wipe()\nfor item in outputs:\n    outputs[item] \u003d np.array(outputs[item])\n",
      "metadata": {
        "pycharm": {
          "metadata": false,
          "name": "#%%\n"
        }
      }
    },
    {
      "cell_type": "markdown",
      "source": "### Plot roof displacement",
      "metadata": {
        "pycharm": {
          "metadata": false,
          "name": "#%% md\n"
        }
      }
    },
    {
      "cell_type": "code",
      "execution_count": null,
      "outputs": [],
      "source": "acc_opensees \u003d np.interp(time, outputs[\"time\"], outputs[\"rel_accel\"]) - rec\nux_opensees \u003d np.interp(time, outputs[\"time\"], outputs[\"rel_disp\"])\nplt.plot(ux_opensees)",
      "metadata": {
        "pycharm": {
          "metadata": false,
          "name": "#%%\n"
        }
      }
    }
  ],
  "metadata": {
    "kernelspec": {
      "display_name": "Python 2",
      "language": "python",
      "name": "python2"
    },
    "language_info": {
      "codemirror_mode": {
        "name": "ipython",
        "version": 2
      },
      "file_extension": ".py",
      "mimetype": "text/x-python",
      "name": "python",
      "nbconvert_exporter": "python",
      "pygments_lexer": "ipython2",
      "version": "2.7.6"
    }
  },
  "nbformat": 4,
  "nbformat_minor": 0
}